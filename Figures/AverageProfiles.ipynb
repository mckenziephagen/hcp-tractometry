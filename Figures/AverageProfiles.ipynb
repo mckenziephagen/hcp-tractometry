{
 "cells": [
  {
   "cell_type": "code",
   "execution_count": null,
   "id": "45c8a462",
   "metadata": {},
   "outputs": [],
   "source": [
    "import pandas as pd\n",
    "import numpy as np\n",
    "import boto3\n",
    "from tqdm import tqdm\n",
    "import os.path as op\n",
    "import os"
   ]
  },
  {
   "cell_type": "code",
   "execution_count": null,
   "id": "6ae0222e",
   "metadata": {},
   "outputs": [],
   "source": [
    "hcp_sub_list = np.loadtxt(\"./hcp_subs.txt\", dtype=int)\n",
    "s3 = boto3.client('s3')\n",
    "os.makedirs(\"prof_csvs\", exist_ok=True)\n",
    "for hcp_sub in tqdm(hcp_sub_list):\n",
    "    clean_prof_fname = (\n",
    "        f\"sub-{hcp_sub}/ses-01/sub-{hcp_sub}_dwi_space-RASMM_model-CSD\"\n",
    "        \"_desc-prob-afq_profiles.csv\")\n",
    "    unclean_prof_fname = (\n",
    "        f\"sub-{hcp_sub}/ses-01/sub-{hcp_sub}_dwi_space-RASMM_model-CSD\"\n",
    "        \"_desc-prob-AFQ_profiles.csv\")\n",
    "    if not op.exists(f\"prof_csvs/{hcp_sub}.csv\"):\n",
    "        try:\n",
    "            s3.download_file(\n",
    "                \"open-neurodata\",\n",
    "                f\"rokem/hcp1200/afq/{clean_prof_fname}\",\n",
    "                f\"prof_csvs/{hcp_sub}.csv\")\n",
    "        except:\n",
    "            s3.download_file(\n",
    "                \"open-neurodata\",\n",
    "                f\"rokem/hcp1200/afq/{unclean_prof_fname}\",\n",
    "                f\"prof_csvs/{hcp_sub}.csv\")\n"
   ]
  },
  {
   "cell_type": "code",
   "execution_count": null,
   "id": "dc7ebf4c",
   "metadata": {},
   "outputs": [],
   "source": [
    "if not op.exists(\"combined_profs.csv\"):\n",
    "    results = pd.DataFrame()\n",
    "    for hcp_sub in tqdm(hcp_sub_list):\n",
    "        try:\n",
    "            this_csv = pd.read_csv(f\"prof_csvs/{hcp_sub}.csv\")\n",
    "        except:\n",
    "            print(f\"Sub {hcp_sub} Failed\")\n",
    "        this_csv[\"subjectID\"] = hcp_sub\n",
    "        results = pd.concat([results, this_csv])\n",
    "    results.to_csv(\"combined_profs.csv\", index=False)"
   ]
  },
  {
   "cell_type": "code",
   "execution_count": null,
   "id": "cb397863",
   "metadata": {},
   "outputs": [],
   "source": [
    "import AFQ.viz.altair as AFA"
   ]
  },
  {
   "cell_type": "code",
   "execution_count": null,
   "id": "d01a9fca",
   "metadata": {},
   "outputs": [],
   "source": [
    "results = pd.read_csv(\"combined_profs.csv\")\n",
    "results = AFA.combined_profiles_df_to_altair_df(results, ['dki_fa', 'dki_md', 'dki_mk', 'dki_awf'])\n",
    "results[\"Bundle Name\"] = results[\"Bundle Name\"].replace({\n",
    "    \"ATR_L\": \"Anterior Thalamic\",\n",
    "    \"ATR_R\": \"Anterior Thalamic\",\n",
    "    \"CST_L\": \"Corticospinal\",\n",
    "    \"CST_R\": \"Corticospinal\",\n",
    "    \"CGC_L\": \"Cingulum Cingulate\",\n",
    "    \"CGC_R\": \"Cingulum Cingulate\",\n",
    "    \"IFO_L\": \"Inferior Fronto-Occipital\",\n",
    "    \"IFO_R\": \"Inferior Fronto-Occipital\",\n",
    "    \"ILF_L\": \"Inferior Longitudinal\",\n",
    "    \"ILF_R\": \"Inferior Longitudinal\",\n",
    "    \"SLF_L\": \"Superior Longitudinal\",\n",
    "    \"SLF_R\": \"Superior Longitudinal\",\n",
    "    \"UNC_L\": \"Uncinate\",\n",
    "    \"UNC_R\": \"Uncinate\",\n",
    "    \"ARC_L\": \"Arcuate\",\n",
    "    \"ARC_R\": \"Arcuate\",\n",
    "    \"VOF_L\": \"Vertical Occipital\",\n",
    "    \"VOF_R\": \"Vertical Occipital\",\n",
    "    \"pARC_L\": \"Posterior Arcuate\",\n",
    "    \"pARC_R\": \"Posterior Arcuate\"\n",
    "})"
   ]
  },
  {
   "cell_type": "code",
   "execution_count": null,
   "id": "04437268",
   "metadata": {},
   "outputs": [],
   "source": [
    "results"
   ]
  },
  {
   "cell_type": "code",
   "execution_count": null,
   "id": "499adedb",
   "metadata": {},
   "outputs": [],
   "source": []
  },
  {
   "cell_type": "code",
   "execution_count": null,
   "id": "cab971bb",
   "metadata": {},
   "outputs": [],
   "source": [
    "import importlib\n",
    "importlib.reload(AFA)"
   ]
  },
  {
   "cell_type": "code",
   "execution_count": null,
   "id": "c0220a96",
   "metadata": {},
   "outputs": [],
   "source": [
    "import altair as alt\n",
    "call_results = results[results.Hemi == \"Callosal\"]\n",
    "stand_results = results[results.Hemi != \"Callosal\"]\n",
    "prof_chart = AFA.altair_df_to_chart(call_results, font_size=40, line_size=5, color=alt.Color(\n",
    "            \"Bundle Name\", \n",
    "            scale=alt.Scale(\n",
    "                domain=[\n",
    "                    'AntFrontal', 'Motor', 'Occipital', 'Orbital',\n",
    "                    'PostParietal', 'SupFrontal', 'SupParietal',\n",
    "                    'Temporal'],\n",
    "                range=[\n",
    "                    \"rgb(18, 120, 51)\", \"rgb(136, 205, 238)\",\n",
    "                    \"rgb(172, 69, 154)\", \"rgb(51, 33, 136)\",\n",
    "                    \"rgb(205, 102, 120)\", \"rgb(69, 172, 154)\",\n",
    "                    \"rgb(223, 205, 120)\", \"rgb(136, 33, 84)\"])))\n",
    "prof_chart.save(\"supp_chart_call.png\", dpi=300)\n",
    "prof_chart = AFA.altair_df_to_chart(stand_results, font_size=40, line_size=5, legend_line_size=3, column_count=2, color=\"Hemi\")\n",
    "prof_chart.save(\"supp_chart_stand.png\", dpi=300)\n",
    "prof_chart"
   ]
  },
  {
   "cell_type": "code",
   "execution_count": null,
   "id": "86789bf9",
   "metadata": {},
   "outputs": [],
   "source": []
  },
  {
   "cell_type": "code",
   "execution_count": null,
   "id": "b1a46256-f12c-49b6-b897-e9182c6f65a2",
   "metadata": {},
   "outputs": [],
   "source": []
  }
 ],
 "metadata": {
  "kernelspec": {
   "display_name": "Python 3 (ipykernel)",
   "language": "python",
   "name": "python3"
  },
  "language_info": {
   "codemirror_mode": {
    "name": "ipython",
    "version": 3
   },
   "file_extension": ".py",
   "mimetype": "text/x-python",
   "name": "python",
   "nbconvert_exporter": "python",
   "pygments_lexer": "ipython3",
   "version": "3.9.10"
  }
 },
 "nbformat": 4,
 "nbformat_minor": 5
}
